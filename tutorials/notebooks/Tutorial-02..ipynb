{
 "cells": [
  {
   "cell_type": "code",
   "execution_count": 1,
   "metadata": {},
   "outputs": [
    {
     "name": "stderr",
     "output_type": "stream",
     "text": [
      "Seed set to 42\n"
     ]
    }
   ],
   "source": [
    "import sys\n",
    "import deepHSI\n",
    "\n",
    "from pathlib import Path\n",
    "\n",
    "import numpy as np\n",
    "from lightning.pytorch import Trainer, seed_everything\n",
    "\n",
    "# Custom module imports\n",
    "from deepHSI.datamodule.components import HyperspectralDataset\n",
    "from deepHSI.datamodule.components.utils import *\n",
    "\n",
    "from deepHSI.datamodule.medical_datasets import BloodDetectionHSIDataModule\n",
    "\n",
    "from deepHSI.datamodule.remote_sensing_datasets import *\n",
    "# from deepHSI.datamodule.remote_sensing_datasets.paviaC import PaviaCDataModule\n",
    "\n",
    "from deepHSI.models.architectures import HSIFCModel, \\\n",
    "    SpectralSpatialCNN, HyperspectralCNNDetector\n",
    "from deepHSI.models.task_algos import HSIClassificationModule\n",
    "\n",
    "seed_everything(42, workers=True)\n",
    "\n",
    "# Importing from `lightning` instead of `pytorch_lightning`\n",
    "import lightning as L\n",
    "\n",
    "# PyTorch and metrics imports\n",
    "import torch\n",
    "from torchmetrics import F1Score, Precision, Recall\n",
    "\n",
    "# from lightning import Trainer\n",
    "\n",
    "torch.set_float32_matmul_precision(\"medium\")"
   ]
  },
  {
   "cell_type": "code",
   "execution_count": 2,
   "metadata": {},
   "outputs": [],
   "source": [
    "from pathlib import Path\n",
    "\n",
    "# Specify the directory to save checkpoints\n",
    "ckpt_dir = Path(\"/home/sayem/Desktop/deepHSI/notebooks/ckpt\")\n",
    "\n",
    "# Function to clear directory\n",
    "\n",
    "def clear_directory(path: Path):\n",
    "    if path.is_dir():\n",
    "        for item in path.iterdir():\n",
    "            if item.is_dir():\n",
    "                clear_directory(item)\n",
    "                item.rmdir()\n",
    "            else:\n",
    "                item.unlink()\n",
    "    else:\n",
    "        path.mkdir(parents=True, exist_ok=True)\n",
    "\n",
    "\n",
    "# Clear and/or create the log and checkpoint directories\n",
    "clear_directory(ckpt_dir)"
   ]
  },
  {
   "cell_type": "code",
   "execution_count": 3,
   "metadata": {},
   "outputs": [],
   "source": [
    "from deepHSI.models.task_algos import BaseModule"
   ]
  },
  {
   "cell_type": "code",
   "execution_count": 4,
   "metadata": {},
   "outputs": [],
   "source": [
    "import torch\n",
    "from torch.optim import Adam, lr_scheduler\n",
    "\n",
    "# Define the parameters for the optimizer\n",
    "optimizer_params = {\n",
    "    'lr': 0.001,\n",
    "    'betas': (0.9, 0.999),\n",
    "    'eps': 1e-08,\n",
    "    'weight_decay': 0,\n",
    "}\n",
    "\n",
    "# Define the parameters for the scheduler\n",
    "scheduler_params = {\n",
    "    'step_size': 10,\n",
    "    'gamma': 0.1,\n",
    "}"
   ]
  },
  {
   "cell_type": "code",
   "execution_count": 5,
   "metadata": {},
   "outputs": [
    {
     "name": "stderr",
     "output_type": "stream",
     "text": [
      "/home/sayem/anaconda3/envs/deepHSI/lib/python3.12/site-packages/torch/nn/modules/conv.py:605: UserWarning: Using padding='same' with even kernel lengths and odd dilation may require a zero-padded copy of the input be created (Triggered internally at ../aten/src/ATen/native/Convolution.cpp:1040.)\n",
      "  return F.conv3d(\n"
     ]
    }
   ],
   "source": [
    "# Define the parameters for the data module\n",
    "data_dir = \"/home/sayem/Desktop/deepHSI/data\"  # Specify the directory where you want the data to be downloaded\n",
    "\n",
    "# Include 'batch_size', 'num_workers', and 'num_classes' within the hyperparams dictionary\n",
    "hyperparams = {\n",
    "    \"batch_size\": 64,\n",
    "    \"num_workers\": 24,\n",
    "    \"patch_size\": 10,\n",
    "    \"center_pixel\": True,\n",
    "    \"supervision\": \"full\",\n",
    "    \"num_classes\": 10,  # Define the number of classes in your dataset\n",
    "}\n",
    "\n",
    "# Assuming YourModel is defined elsewhere and num_classes is known\n",
    "input_channels = 102\n",
    "\n",
    "# Define custom metrics for the classification task using the updated hyperparams\n",
    "custom_metrics = {\n",
    "    \"precision\": Precision(\n",
    "        num_classes=hyperparams[\"num_classes\"], average=\"macro\", task=\"multiclass\"\n",
    "    ),\n",
    "    \"recall\": Recall(num_classes=hyperparams[\"num_classes\"], average=\"macro\", task=\"multiclass\"),\n",
    "    \"f1\": F1Score(num_classes=hyperparams[\"num_classes\"], average=\"macro\", task=\"multiclass\"),\n",
    "}\n",
    "\n",
    "# model = HSIFCResNetModel(\n",
    "#     input_channels=input_channels,\n",
    "#     patch_size=hyperparams[\"patch_size\"],  # Use patch_size from hyperparams\n",
    "#     n_classes=hyperparams[\"num_classes\"],  # Use num_classes from hyperparams\n",
    "#     dropout=True,\n",
    "# )\n",
    "\n",
    "model = HyperspectralCNNDetector(\n",
    "    input_channels=input_channels,\n",
    "    patch_size=hyperparams[\"patch_size\"],  # Use patch_size from hyperparams\n",
    "    n_classes=hyperparams[\"num_classes\"],  # Use num_classes from hyperparams\n",
    "    dropout=True,\n",
    ")"
   ]
  },
  {
   "cell_type": "markdown",
   "metadata": {},
   "source": [
    "## Test vae"
   ]
  },
  {
   "cell_type": "code",
   "execution_count": 6,
   "metadata": {},
   "outputs": [],
   "source": [
    "import torch.nn as nn\n",
    "\n",
    "# Define dimensions\n",
    "input_dim = 784  # Example for flattened 28x28 images\n",
    "hidden_dim = 400\n",
    "latent_dim = 20\n",
    "output_dim = 784  # Same as input_dim for reconstruction\n",
    "\n",
    "# Define the Encoder using nn.Sequential\n",
    "encoder = nn.Sequential(\n",
    "    nn.Linear(input_dim, hidden_dim),\n",
    "    nn.ReLU(),\n",
    "    nn.Linear(hidden_dim, latent_dim * 2)  # Output both mean and log variance\n",
    ")\n",
    "\n",
    "# Define the Decoder using nn.Sequential\n",
    "decoder = nn.Sequential(\n",
    "    nn.Linear(latent_dim, hidden_dim),\n",
    "    nn.ReLU(),\n",
    "    nn.Linear(hidden_dim, output_dim),\n",
    "    nn.Sigmoid()  # Assuming binary data\n",
    ")"
   ]
  },
  {
   "cell_type": "code",
   "execution_count": 7,
   "metadata": {},
   "outputs": [],
   "source": [
    "from deepHSI.models.task_algos import VAEModule"
   ]
  },
  {
   "cell_type": "code",
   "execution_count": 8,
   "metadata": {},
   "outputs": [],
   "source": [
    "vae = VAEModule(encoder=encoder, decoder=decoder, \\\n",
    "    latent_dim=latent_dim, optimizer_constructor=Adam,\n",
    "    optimizer_params=optimizer_params,\n",
    "    scheduler_constructor=lr_scheduler.StepLR,\n",
    "    scheduler_params=scheduler_params,)"
   ]
  },
  {
   "cell_type": "code",
   "execution_count": null,
   "metadata": {},
   "outputs": [],
   "source": [
    "from deepHSI.datamodule.transforms.hsi_transforms import *\n",
    "\n",
    "# Instantiate individual transformations\n",
    "normalize_transform = HSINormalize()\n",
    "flip_transform = HSIFlip()\n",
    "rotate_transform = HSIRotate()\n",
    "noise_transform = HSISpectralNoise(mean=0.0, std=0.01)\n",
    "shift_transform = HSISpectralShift(shift=2)\n",
    "drop_transform = HSIRandomSpectralDrop(drop_prob=0.1)\n",
    "\n",
    "# Compose transformations together\n",
    "composed_transform = Compose([\n",
    "    normalize_transform,\n",
    "    flip_transform,\n",
    "    # rotate_transform,\n",
    "    noise_transform,\n",
    "    shift_transform,\n",
    "    drop_transform\n",
    "])"
   ]
  },
  {
   "cell_type": "code",
   "execution_count": null,
   "metadata": {},
   "outputs": [
    {
     "name": "stdout",
     "output_type": "stream",
     "text": [
      "\"custom_metrics\":        {'precision': MulticlassPrecision(), 'recall': MulticlassRecall(), 'f1': MulticlassF1Score()}\n",
      "\"loss_fn\":               <function cross_entropy at 0x7ed3a7f38f40>\n",
      "\"num_classes\":           10\n",
      "\"optimizer_constructor\": <class 'torch.optim.adam.Adam'>\n",
      "\"optimizer_params\":      {'lr': 0.001, 'betas': (0.9, 0.999), 'eps': 1e-08, 'weight_decay': 0}\n",
      "\"scheduler_constructor\": <class 'torch.optim.lr_scheduler.StepLR'>\n",
      "\"scheduler_params\":      {'step_size': 10, 'gamma': 0.1}\n"
     ]
    }
   ],
   "source": [
    "# # # Initialize the PyTorch Lightning Trainer\n",
    "# # trainer = Trainer(max_epochs=10, precision='16-mixed', accelerator='gpu', devices=1)\n",
    "max_epochs = 200\n",
    "\n",
    "# Initialize the PaviaCDataModule with the updated arguments\n",
    "pavia_c_datamodule = PaviaCDataModule(\n",
    "    data_dir=data_dir, hyperparams=hyperparams, \\\n",
    "    transform=composed_transform,  # Pass hyperparams which now includes num_classes\n",
    ")"
   ]
  },
  {
   "cell_type": "code",
   "execution_count": null,
   "metadata": {},
   "outputs": [
    {
     "data": {
      "text/plain": [
       "HSIClassificationModule(\n",
       "  (net): HyperspectralCNNDetector(\n",
       "    (conv1): Conv3d(1, 32, kernel_size=(102, 4, 4), stride=(1, 1, 1), padding=same)\n",
       "    (pool1): MaxPool3d(kernel_size=(1, 2, 2), stride=(1, 2, 2), padding=0, dilation=1, ceil_mode=False)\n",
       "    (conv2): Conv3d(32, 32, kernel_size=(1, 4, 4), stride=(1, 1, 1), padding=same)\n",
       "    (pool2): MaxPool3d(kernel_size=(1, 2, 2), stride=(1, 2, 2), padding=0, dilation=1, ceil_mode=False)\n",
       "    (conv3): Conv3d(32, 32, kernel_size=(1, 4, 4), stride=(1, 1, 1), padding=same)\n",
       "    (fc): Linear(in_features=13056, out_features=10, bias=True)\n",
       "    (dropout): Dropout(p=0.5, inplace=False)\n",
       "  )\n",
       "  (precision): MulticlassPrecision()\n",
       "  (recall): MulticlassRecall()\n",
       "  (f1): MulticlassF1Score()\n",
       ")"
      ]
     },
     "execution_count": 19,
     "metadata": {},
     "output_type": "execute_result"
    }
   ],
   "source": [
    "import os\n",
    "import wandb\n",
    "from pytorch_lightning.loggers import WandbLogger\n",
    "\n",
    "# Assuming the BaseModule, optimizer, and scheduler are initialized as follows:\n",
    "# module = BaseModule(...)\n",
    "\n",
    "# Extract the optimizer and scheduler names\n",
    "optimizer_id = module.optimizer_constructor.__name__  # Assuming optimizer_constructor is a class like torch.optim.Adam\n",
    "scheduler_id = module.scheduler_constructor.__name__  # Assuming scheduler_constructor \n",
    "                                                      # is a class like torch.optim.lr_scheduler.StepLR\n",
    "\n",
    "# # Dynamically get the model name\n",
    "model_name = module.model.__class__.__name__  # Assuming the BaseModule has a 'model' attribute\n",
    "\n",
    "# Set the WandB notebook name for better organization\n",
    "os.environ[\"WANDB_NOTEBOOK_NAME\"] = \"1.0-hsi-initial-data-exploration.ipynb\"\n",
    "wandb.login()\n",
    "\n",
    "# Dynamically construct the run name to include key experiment details\n",
    "dynamic_run_name = f\"{optimizer_id}-with-{scheduler_id}-{model_name}\"\n",
    "\n",
    "# Extend the dynamic tags to include other important aspects of the experiment\n",
    "dynamic_tags = [\n",
    "    optimizer_id, scheduler_id, model_name,\n",
    "    # Add more tags as needed, e.g., dataset name, special model configurations\n",
    "]\n",
    "\n",
    "print(dynamic_tags)\n",
    "\n",
    "# Include additional notes for the experiment to describe unique aspects or goals\n",
    "experiment_notes = f\"Testing {optimizer_id} optimizer with \\\n",
    "    {scheduler_id} scheduler on {model_name}.\"\n",
    "\n",
    "# Initialize WandbLogger with dynamic configurations\n",
    "wandb_logger = WandbLogger(\n",
    "    name=dynamic_run_name,\n",
    "    project=\"PaviaC\",\n",
    "    save_dir=\"/home/sayem/Desktop/deepHSI/notebooks/wandb\",\n",
    "    offline=False,\n",
    "    tags=dynamic_tags,\n",
    "    notes=experiment_notes,  # Add the experiment notes\n",
    ")\n",
    "\n",
    "# # Assume `hyperparams` is a dictionary containing your experiment-specific hyperparameters\n",
    "# # Include additional hyperparameters related to the optimizer and scheduler\n",
    "# hyperparams = {\n",
    "#     \"learning_rate\": 0.001,  # Example hyperparameter\n",
    "#     # Include other experiment-specific hyperparameters\n",
    "# }\n",
    "\n",
    "# Update the WandB config with a comprehensive set of experiment details\n",
    "wandb_logger.experiment.config.update({\n",
    "    \"optimizer\": optimizer_id,\n",
    "    \"scheduler\": scheduler_id,\n",
    "    # \"model\": model_name,\n",
    "    **hyperparams,\n",
    "})"
   ]
  },
  {
   "cell_type": "code",
   "execution_count": null,
   "metadata": {},
   "outputs": [],
   "source": [
    "STOP"
   ]
  },
  {
   "cell_type": "code",
   "execution_count": null,
   "metadata": {},
   "outputs": [],
   "source": [
    "# Callbacks: Pytorch Callbacks: See L doc\n",
    "# Define the EarlyStopping callback\n",
    "early_stop_callback = L.pytorch.callbacks.EarlyStopping(\n",
    "    monitor=\"val/f1\",  # Specify the metric to monitor\n",
    "    patience=20,  # Number of epochs with no improvement after which training will be stopped\n",
    "    verbose=True,  # Whether to print logs to stdout\n",
    "    mode=\"max\",  # In 'min' mode, training will stop when the quantity monitored has stopped decreasing\n",
    "    check_on_train_epoch_end=False,\n",
    ")\n",
    "\n",
    "# from lightning.pytorch.callbacks import ModelCheckpoint\n",
    "\n",
    "# Define the ModelCheckpoint callback\n",
    "model_checkpoint = L.pytorch.callbacks.ModelCheckpoint(\n",
    "    monitor=\"val/f1\",  # Metric to monitor\n",
    "    dirpath=str(ckpt_dir),  # Convert Path object to string, Directory to save checkpoints\n",
    "    filename=\"best-checkpoint-{epoch:02d}-{val/f1:.2f}\",  # Checkpoint file name\n",
    "    save_top_k=1,  # Save only the best checkpoint\n",
    "    mode=\"max\",  # 'max' because we want to maximize 'val/f1'\n",
    "    verbose=True,  # Print a message when a new best is found\n",
    "    auto_insert_metric_name=False,  # Prevents metric names being inserted into filename automatically\n",
    ")\n",
    "\n",
    "rich_pbar_callback = L.pytorch.callbacks.RichProgressBar(\n",
    "    refresh_rate=1,\n",
    "    leave=True,\n",
    ")\n",
    "\n",
    "lr_monitor_callback = L.pytorch.callbacks.LearningRateMonitor(logging_interval='epoch') "
   ]
  },
  {
   "cell_type": "code",
   "execution_count": null,
   "metadata": {},
   "outputs": [],
   "source": [
    "# Initialize the PyTorch Lightning Trainer with fast_dev_run enabled\n",
    "trainer = L.Trainer(\n",
    "    fast_dev_run=False,  # Enable fast_dev_run\n",
    "    precision=\"16-mixed\",  # Use 16-bit precision\n",
    "    accelerator=\"auto\",  # Specify the accelerator as GPU\n",
    "    max_epochs=max_epochs,\n",
    "    log_every_n_steps=3,\n",
    "    callbacks=[\n",
    "        # lr_finder_callback,\n",
    "        early_stop_callback,\n",
    "        model_checkpoint,\n",
    "        # confusion_matrix_callback,\n",
    "        # batch_finder_callback,\n",
    "        lr_monitor_callback,\n",
    "        # model_weight_logger_callback,\n",
    "    ],  # rich_pbar_callback],\n",
    "    logger=wandb_logger,\n",
    "    deterministic=False,\n",
    ")"
   ]
  },
  {
   "cell_type": "code",
   "execution_count": null,
   "metadata": {},
   "outputs": [],
   "source": [
    "trainer.fit(hsi_classifier, datamodule=pavia_c_datamodule)"
   ]
  },
  {
   "cell_type": "code",
   "execution_count": null,
   "metadata": {},
   "outputs": [],
   "source": [
    "# Fit the model using the train dataset from the data module\n",
    "dictionary = trainer.test(hsi_classifier, pavia_c_datamodule, verbose=True)\n",
    "# trainer.fit(hsi_module, datamodule=pavia_c_datamodule)tree\n",
    "# Use train_dataloader() instead of train_dataset"
   ]
  },
  {
   "cell_type": "code",
   "execution_count": null,
   "metadata": {},
   "outputs": [],
   "source": [
    "# After training or experiments are done, finish the WandB run\n",
    "wandb.finish()"
   ]
  }
 ],
 "metadata": {
  "kernelspec": {
   "display_name": "deepHSI",
   "language": "python",
   "name": "python3"
  },
  "language_info": {
   "codemirror_mode": {
    "name": "ipython",
    "version": 3
   },
   "file_extension": ".py",
   "mimetype": "text/x-python",
   "name": "python",
   "nbconvert_exporter": "python",
   "pygments_lexer": "ipython3",
   "version": "3.12.2"
  }
 },
 "nbformat": 4,
 "nbformat_minor": 2
}
