{
 "cells": [
  {
   "cell_type": "code",
   "execution_count": 1,
   "metadata": {},
   "outputs": [
    {
     "name": "stderr",
     "output_type": "stream",
     "text": [
      "Seed set to 42\n"
     ]
    }
   ],
   "source": [
    "import sys\n",
    "import deepHSI\n",
    "\n",
    "from pathlib import Path\n",
    "\n",
    "import numpy as np\n",
    "from lightning.pytorch import Trainer, seed_everything\n",
    "\n",
    "# Custom module imports\n",
    "from deepHSI.datamodule.components import HyperspectralDataset\n",
    "from deepHSI.datamodule.components.utils import *\n",
    "\n",
    "from deepHSI.datamodule.medical_datasets import BloodDetectionHSIDataModule\n",
    "\n",
    "from deepHSI.datamodule.remote_sensing_datasets import *\n",
    "# from deepHSI.datamodule.remote_sensing_datasets.paviaC import PaviaCDataModule\n",
    "\n",
    "from deepHSI.models.architectures import HSIFCModel, SpectralSpatialCNN, HyperspectralCNNDetector\n",
    "from deepHSI.models import HSIClassificationModule\n",
    "\n",
    "seed_everything(42, workers=True)\n",
    "\n",
    "# Importing from `lightning` instead of `pytorch_lightning`\n",
    "import lightning as L\n",
    "\n",
    "# PyTorch and metrics imports\n",
    "import torch\n",
    "from torchmetrics import F1Score, Precision, Recall\n",
    "\n",
    "# from lightning import Trainer\n",
    "\n",
    "torch.set_float32_matmul_precision(\"medium\")"
   ]
  },
  {
   "cell_type": "code",
   "execution_count": 2,
   "metadata": {},
   "outputs": [],
   "source": [
    "from pathlib import Path\n",
    "\n",
    "# Specify the directory to save checkpoints\n",
    "ckpt_dir = Path(\"/home/sayem/Desktop/deepHSI/notebooks/ckpt\")\n",
    "\n",
    "# Function to clear directory\n",
    "\n",
    "def clear_directory(path: Path):\n",
    "    if path.is_dir():\n",
    "        for item in path.iterdir():\n",
    "            if item.is_dir():\n",
    "                clear_directory(item)\n",
    "                item.rmdir()\n",
    "            else:\n",
    "                item.unlink()\n",
    "    else:\n",
    "        path.mkdir(parents=True, exist_ok=True)\n",
    "\n",
    "\n",
    "# Clear and/or create the log and checkpoint directories\n",
    "clear_directory(ckpt_dir)"
   ]
  },
  {
   "cell_type": "code",
   "execution_count": 3,
   "metadata": {},
   "outputs": [
    {
     "name": "stderr",
     "output_type": "stream",
     "text": [
      "/home/sayem/anaconda3/envs/deepHSI/lib/python3.12/site-packages/torch/nn/modules/conv.py:605: UserWarning: Using padding='same' with even kernel lengths and odd dilation may require a zero-padded copy of the input be created (Triggered internally at ../aten/src/ATen/native/Convolution.cpp:1040.)\n",
      "  return F.conv3d(\n"
     ]
    }
   ],
   "source": [
    "# Define the parameters for the data module\n",
    "data_dir = \"/home/sayem/Desktop/deepHSI/data\"  # Specify the directory where you want the data to be downloaded\n",
    "\n",
    "# Include 'batch_size', 'num_workers', and 'num_classes' within the hyperparams dictionary\n",
    "hyperparams = {\n",
    "    \"batch_size\": 64,\n",
    "    \"num_workers\": 24,\n",
    "    \"patch_size\": 10,\n",
    "    \"center_pixel\": True,\n",
    "    \"supervision\": \"full\",\n",
    "    \"num_classes\": 10,  # Define the number of classes in your dataset\n",
    "}\n",
    "\n",
    "# Assuming YourModel is defined elsewhere and num_classes is known\n",
    "input_channels = 102\n",
    "\n",
    "# Define custom metrics for the classification task using the updated hyperparams\n",
    "custom_metrics = {\n",
    "    \"precision\": Precision(\n",
    "        num_classes=hyperparams[\"num_classes\"], average=\"macro\", task=\"multiclass\"\n",
    "    ),\n",
    "    \"recall\": Recall(num_classes=hyperparams[\"num_classes\"], average=\"macro\", task=\"multiclass\"),\n",
    "    \"f1\": F1Score(num_classes=hyperparams[\"num_classes\"], average=\"macro\", task=\"multiclass\"),\n",
    "}\n",
    "\n",
    "# model = HSIFCResNetModel(\n",
    "#     input_channels=input_channels,\n",
    "#     patch_size=hyperparams[\"patch_size\"],  # Use patch_size from hyperparams\n",
    "#     n_classes=hyperparams[\"num_classes\"],  # Use num_classes from hyperparams\n",
    "#     dropout=True,\n",
    "# )\n",
    "\n",
    "model = HyperspectralCNNDetector(\n",
    "    input_channels=input_channels,\n",
    "    patch_size=hyperparams[\"patch_size\"],  # Use patch_size from hyperparams\n",
    "    n_classes=hyperparams[\"num_classes\"],  # Use num_classes from hyperparams\n",
    "    dropout=True,\n",
    ")"
   ]
  },
  {
   "cell_type": "code",
   "execution_count": 4,
   "metadata": {},
   "outputs": [],
   "source": [
    "import torch\n",
    "\n",
    "# Mapping for all optimizers available in PyTorch\n",
    "optimizer_mapping = {\n",
    "    'Adadelta': torch.optim.Adadelta,\n",
    "    'Adagrad': torch.optim.Adagrad,\n",
    "    'Adam': torch.optim.Adam,\n",
    "    'AdamW': torch.optim.AdamW,\n",
    "    'SparseAdam': torch.optim.SparseAdam,\n",
    "    'Adamax': torch.optim.Adamax,\n",
    "    'ASGD': torch.optim.ASGD,\n",
    "    'LBFGS': torch.optim.LBFGS,\n",
    "    'RMSprop': torch.optim.RMSprop,\n",
    "    'Rprop': torch.optim.Rprop,\n",
    "    'SGD': torch.optim.SGD,\n",
    "}\n",
    "\n",
    "# Mapping for all learning rate schedulers in PyTorch\n",
    "scheduler_mapping = {\n",
    "    'None': None,  # Option for no scheduler\n",
    "    'LambdaLR': torch.optim.lr_scheduler.LambdaLR,\n",
    "    'MultiplicativeLR': torch.optim.lr_scheduler.MultiplicativeLR,\n",
    "    'StepLR': torch.optim.lr_scheduler.StepLR,\n",
    "    'MultiStepLR': torch.optim.lr_scheduler.MultiStepLR,\n",
    "    'ExponentialLR': torch.optim.lr_scheduler.ExponentialLR,\n",
    "    'CosineAnnealingLR': torch.optim.lr_scheduler.CosineAnnealingLR,\n",
    "    'ReduceLROnPlateau': torch.optim.lr_scheduler.ReduceLROnPlateau,\n",
    "    'CyclicLR': torch.optim.lr_scheduler.CyclicLR,\n",
    "    'OneCycleLR': torch.optim.lr_scheduler.OneCycleLR,\n",
    "    'CosineAnnealingWarmRestarts': torch.optim.lr_scheduler.CosineAnnealingWarmRestarts,\n",
    "}"
   ]
  },
  {
   "cell_type": "code",
   "execution_count": 5,
   "metadata": {
    "tags": [
     "parameters"
    ]
   },
   "outputs": [],
   "source": [
    "# Parameters (tag this cell with 'parameters' in Jupyter)\n",
    "\n",
    "# Default identifiers for optimizer and scheduler\n",
    "optimizer_id = 'Adam' # Example default\n",
    "scheduler_id = 'CosineAnnealingWarmRestarts'  # Default to not using a scheduler"
   ]
  },
  {
   "cell_type": "code",
   "execution_count": 6,
   "metadata": {
    "tags": []
   },
   "outputs": [],
   "source": [
    "torch_optimizer = optimizer_mapping[optimizer_id]\n",
    "lr_scheduler = scheduler_mapping[scheduler_id]"
   ]
  },
  {
   "cell_type": "code",
   "execution_count": 7,
   "metadata": {},
   "outputs": [
    {
     "name": "stderr",
     "output_type": "stream",
     "text": [
      "\u001b[34m\u001b[1mwandb\u001b[0m: \u001b[33mWARNING\u001b[0m WANDB_NOTEBOOK_NAME should be a path to a notebook file, couldn't find 1.0-hsi-initial-data-exploration.ipynb.\n",
      "\u001b[34m\u001b[1mwandb\u001b[0m: Currently logged in as: \u001b[33mk61\u001b[0m. Use \u001b[1m`wandb login --relogin`\u001b[0m to force relogin\n",
      "\u001b[34m\u001b[1mwandb\u001b[0m: \u001b[33mWARNING\u001b[0m Path /home/sayem/Desktop/deepHSI/notebooks/wandb/wandb/ wasn't writable, using system temp directory.\n",
      "wandb: WARNING Path /home/sayem/Desktop/deepHSI/notebooks/wandb/wandb/ wasn't writable, using system temp directory\n"
     ]
    },
    {
     "name": "stdout",
     "output_type": "stream",
     "text": [
      "['Adam', 'CosineAnnealingWarmRestarts', 'HyperspectralCNNDetector']\n"
     ]
    },
    {
     "data": {
      "text/html": [
       "Tracking run with wandb version 0.16.5"
      ],
      "text/plain": [
       "<IPython.core.display.HTML object>"
      ]
     },
     "metadata": {},
     "output_type": "display_data"
    },
    {
     "data": {
      "text/html": [
       "Run data is saved locally in <code>/tmp/wandb/run-20240402_072951-k9gx9mjq</code>"
      ],
      "text/plain": [
       "<IPython.core.display.HTML object>"
      ]
     },
     "metadata": {},
     "output_type": "display_data"
    },
    {
     "data": {
      "text/html": [
       "Syncing run <strong><a href='https://wandb.ai/k61/PaviaC/runs/k9gx9mjq/workspace' target=\"_blank\">Adam-with-CosineAnnealingWarmRestarts-HyperspectralCNNDetector</a></strong> to <a href='https://wandb.ai/k61/PaviaC' target=\"_blank\">Weights & Biases</a> (<a href='https://wandb.me/run' target=\"_blank\">docs</a>)<br/>"
      ],
      "text/plain": [
       "<IPython.core.display.HTML object>"
      ]
     },
     "metadata": {},
     "output_type": "display_data"
    },
    {
     "data": {
      "text/html": [
       " View project at <a href='https://wandb.ai/k61/PaviaC' target=\"_blank\">https://wandb.ai/k61/PaviaC</a>"
      ],
      "text/plain": [
       "<IPython.core.display.HTML object>"
      ]
     },
     "metadata": {},
     "output_type": "display_data"
    },
    {
     "data": {
      "text/html": [
       " View run at <a href='https://wandb.ai/k61/PaviaC/runs/k9gx9mjq/workspace' target=\"_blank\">https://wandb.ai/k61/PaviaC/runs/k9gx9mjq/workspace</a>"
      ],
      "text/plain": [
       "<IPython.core.display.HTML object>"
      ]
     },
     "metadata": {},
     "output_type": "display_data"
    }
   ],
   "source": [
    "import os\n",
    "import wandb\n",
    "from pytorch_lightning.loggers import WandbLogger\n",
    "\n",
    "# Example model setup for demonstration\n",
    "# model = ResNet50(...)  # Your model instantiation\n",
    "\n",
    "# Dynamically get the model name\n",
    "model_name = model.__class__.__name__\n",
    "\n",
    "# Set the WandB notebook name for better organization\n",
    "os.environ[\"WANDB_NOTEBOOK_NAME\"] = \"1.0-hsi-initial-data-exploration.ipynb\"\n",
    "wandb.login()\n",
    "\n",
    "# Dynamically construct the run name to include key experiment details\n",
    "dynamic_run_name = f\"{optimizer_id}-with-{scheduler_id}-{model_name}\"\n",
    "\n",
    "# Extend the dynamic tags to include other important aspects of the experiment\n",
    "dynamic_tags = [\n",
    "    optimizer_id, scheduler_id, model_name,\n",
    "    # Add more tags as needed, e.g., dataset name, special model configurations\n",
    "]\n",
    "\n",
    "print(dynamic_tags)\n",
    "\n",
    "# Include additional notes for the experiment to describe unique aspects or goals\n",
    "experiment_notes = f\"Testing {optimizer_id} optimizer with \\\n",
    "    {scheduler_id} scheduler on {model_name}.\"\n",
    "\n",
    "# Initialize WandbLogger with dynamic configurations\n",
    "wandb_logger = WandbLogger(\n",
    "    name=dynamic_run_name,\n",
    "    project=\"PaviaC\",\n",
    "    save_dir=\"/home/sayem/Desktop/deepHSI/notebooks/wandb\",\n",
    "    offline=False,\n",
    "    tags=dynamic_tags,\n",
    "    notes=experiment_notes,  # Add the experiment notes\n",
    ")\n",
    "\n",
    "# Assume `hyperparams` is a dictionary containing your experiment-specific hyperparameters\n",
    "# Update the WandB config with a comprehensive set of experiment details\n",
    "wandb_logger.experiment.config.update({\n",
    "    \"optimizer\": optimizer_id,\n",
    "    \"scheduler\": scheduler_id,\n",
    "    \"model\": model_name,\n",
    "    # Include other experiment-specific hyperparameters\n",
    "    **hyperparams,\n",
    "})\n"
   ]
  },
  {
   "cell_type": "code",
   "execution_count": 8,
   "metadata": {},
   "outputs": [],
   "source": [
    "from functools import partial\n",
    "\n",
    "import torch\n",
    "\n",
    "# Hyperparameters from your YAML configuration\n",
    "lr = 0.001  # learning rate\n",
    "weight_decay = 0.001  # weight decay\n",
    "\n",
    "# 'partial' creates a new function that when called will behave like 'torch.optim.Adam'\n",
    "# with the given 'lr' and 'weight_decay' parameters pre-filled\n",
    "optimizer = partial(torch_optimizer, lr=lr, weight_decay=weight_decay)\n",
    "\n",
    "# Since 'optimizer_func' is a function created by 'partial', it won't be an instance of 'torch.optim.Optimizer'\n",
    "# Therefore, the isinstance check is not applicable here. We can check if it's callable instead:\n",
    "assert callable(optimizer)\n",
    "\n",
    "# if lr_schedular == None:\n",
    "#     scheduler = None\n",
    "# else:\n",
    "#     scheduler = partial(\n",
    "#         lr_schedular,\n",
    "#         mode=\"min\",\n",
    "#         factor=0.1,\n",
    "#         patience=3,\n",
    "#         threshold=0.0001,\n",
    "#         threshold_mode=\"rel\",\n",
    "#         cooldown=0,\n",
    "#         min_lr=0,\n",
    "#         eps=1e-08,\n",
    "#     )\n",
    "#     Configure relevant parameters for CosineAnnealingWarmRestarts\n",
    "\n",
    "scheduler = partial(\n",
    "    lr_scheduler,\n",
    "    T_0=10,  # Number of iterations for the first restart\n",
    "    T_mult=2,  # A factor to increase T_i after a restart\n",
    "    eta_min=0,  # Minimum learning rate\n",
    "    last_epoch=-1  # The index of the last epoch\n",
    ")\n",
    "assert callable(scheduler)\n",
    "\n",
    "# scheduler = None\n",
    "# # # Since 'scheduler_func' is also a function created by 'partial', we check if it's callable:\n",
    "# assert callable(scheduler)"
   ]
  },
  {
   "cell_type": "code",
   "execution_count": 9,
   "metadata": {},
   "outputs": [],
   "source": [
    "from deepHSI.datamodule.transforms.hsi_transforms import *\n",
    "\n",
    "# Instantiate individual transformations\n",
    "normalize_transform = HSINormalize()\n",
    "flip_transform = HSIFlip()\n",
    "rotate_transform = HSIRotate()\n",
    "noise_transform = HSISpectralNoise(mean=0.0, std=0.01)\n",
    "shift_transform = HSISpectralShift(shift=2)\n",
    "drop_transform = HSIRandomSpectralDrop(drop_prob=0.1)\n",
    "\n",
    "# Compose transformations together\n",
    "composed_transform = Compose([\n",
    "    normalize_transform,\n",
    "    flip_transform,\n",
    "    rotate_transform,\n",
    "    noise_transform,\n",
    "    shift_transform,\n",
    "    drop_transform\n",
    "])"
   ]
  },
  {
   "cell_type": "code",
   "execution_count": 10,
   "metadata": {},
   "outputs": [],
   "source": [
    "# Initialize the HSIClassificationModule with the model and other hyperparameters\n",
    "hsi_classifier = HSIClassificationModule(\n",
    "    net=model,  # Your model instance\n",
    "    optimizer=optimizer,  # The Adam optimizer class from torch.optim\n",
    "    scheduler=scheduler,  # The ReduceLROnPlateau scheduler class from torch.optim.lr_scheduler\n",
    "    loss_fn=torch.nn.functional.cross_entropy,  # Using cross-entropy loss function\n",
    "    num_classes=hyperparams[\"num_classes\"],  # Number of classes from your hyperparameters\n",
    "    custom_metrics=custom_metrics,  # Custom metrics dictionary if any\n",
    ")\n",
    "\n",
    "# # Initialize the PyTorch Lightning Trainer\n",
    "# trainer = Trainer(max_epochs=10, precision='16-mixed', accelerator='gpu', devices=1)\n",
    "max_epochs = 200\n",
    "\n",
    "# Initialize the PaviaCDataModule with the updated arguments\n",
    "pavia_c_datamodule = PaviaCDataModule(\n",
    "    data_dir=data_dir, hyperparams=hyperparams, \\\n",
    "    transform=composed_transform,  # Pass hyperparams which now includes num_classes\n",
    ")"
   ]
  },
  {
   "cell_type": "code",
   "execution_count": 11,
   "metadata": {},
   "outputs": [],
   "source": [
    "# Callbacks\n",
    "# Define the EarlyStopping callback\n",
    "early_stop_callback = L.pytorch.callbacks.EarlyStopping(\n",
    "    monitor=\"val/f1\",  # Specify the metric to monitor\n",
    "    patience=20,  # Number of epochs with no improvement after which training will be stopped\n",
    "    verbose=True,  # Whether to print logs to stdout\n",
    "    mode=\"max\",  # In 'min' mode, training will stop when the quantity monitored has stopped decreasing\n",
    "    check_on_train_epoch_end=False,\n",
    ")\n",
    "\n",
    "# from lightning.pytorch.callbacks import ModelCheckpoint\n",
    "\n",
    "# Define the ModelCheckpoint callback\n",
    "model_checkpoint = L.pytorch.callbacks.ModelCheckpoint(\n",
    "    monitor=\"val/f1\",  # Metric to monitor\n",
    "    dirpath=str(ckpt_dir),  # Convert Path object to string, Directory to save checkpoints\n",
    "    filename=\"best-checkpoint-{epoch:02d}-{val/f1:.2f}\",  # Checkpoint file name\n",
    "    save_top_k=1,  # Save only the best checkpoint\n",
    "    mode=\"max\",  # 'max' because we want to maximize 'val/f1'\n",
    "    verbose=True,  # Print a message when a new best is found\n",
    "    auto_insert_metric_name=False,  # Prevents metric names being inserted into filename automatically\n",
    ")\n",
    "\n",
    "rich_pbar_callback = L.pytorch.callbacks.RichProgressBar(\n",
    "    refresh_rate=1,\n",
    "    leave=True,\n",
    ")\n",
    "\n",
    "lr_monitor_callback = L.pytorch.callbacks.LearningRateMonitor(logging_interval='epoch') "
   ]
  },
  {
   "cell_type": "code",
   "execution_count": 12,
   "metadata": {},
   "outputs": [],
   "source": [
    "from deepHSI.utils.custom_callbacks import (\n",
    "    ConfusionMatrixLoggerCallBack, InitialBatchSizeFinder,\n",
    ")\n",
    "\n",
    "confusion_matrix_callback = ConfusionMatrixLoggerCallBack()\n",
    "\n",
    "from deepHSI.utils.custom_callbacks import (\n",
    "    DynamicLRFinder,\n",
    "    InitialLRFinder,\n",
    ")\n",
    "\n",
    "# from deepHSI.utils.custom_callbacks import InitialBatchSizeFinder\n",
    "# # Instantiate the DynamicLRFinder callback with the defined milestones\n",
    "# dynamic_lr_finder = InitialLRFinder(min_lr=1e-8, max_lr=1, \\\n",
    "#     num_training_steps=100, mode='exponential')\n",
    "\n",
    "# Instantiate the DynamicLRFinder callback with the defined milestones\n",
    "lr_finder_callback = InitialLRFinder()\n",
    "batch_finder_callback = InitialBatchSizeFinder()"
   ]
  },
  {
   "cell_type": "code",
   "execution_count": 13,
   "metadata": {},
   "outputs": [
    {
     "name": "stderr",
     "output_type": "stream",
     "text": [
      "Using 16bit Automatic Mixed Precision (AMP)\n",
      "GPU available: True (cuda), used: True\n",
      "TPU available: False, using: 0 TPU cores\n",
      "IPU available: False, using: 0 IPUs\n",
      "HPU available: False, using: 0 HPUs\n"
     ]
    }
   ],
   "source": [
    "# Initialize the PyTorch Lightning Trainer with fast_dev_run enabled\n",
    "trainer = L.Trainer(\n",
    "    fast_dev_run=False,  # Enable fast_dev_run\n",
    "    precision=\"16-mixed\",  # Use 16-bit precision\n",
    "    accelerator=\"auto\",  # Specify the accelerator as GPU\n",
    "    max_epochs=max_epochs,\n",
    "    log_every_n_steps=3,\n",
    "    callbacks=[\n",
    "        # lr_finder_callback,\n",
    "        early_stop_callback,\n",
    "        model_checkpoint,\n",
    "        confusion_matrix_callback,\n",
    "        # batch_finder_callback,\n",
    "        lr_monitor_callback,\n",
    "    ],  # rich_pbar_callback],\n",
    "    logger=wandb_logger,\n",
    "    deterministic=False,\n",
    ")"
   ]
  },
  {
   "cell_type": "code",
   "execution_count": 14,
   "metadata": {},
   "outputs": [
    {
     "name": "stdout",
     "output_type": "stream",
     "text": [
      "Dataset 'PaviaC' already exists. Skipping download.\n"
     ]
    },
    {
     "name": "stderr",
     "output_type": "stream",
     "text": [
      "LOCAL_RANK: 0 - CUDA_VISIBLE_DEVICES: [0]\n",
      "\n",
      "  | Name      | Type                     | Params\n",
      "-------------------------------------------------------\n",
      "0 | net       | HyperspectralCNNDetector | 215 K \n",
      "1 | precision | MulticlassPrecision      | 0     \n",
      "2 | recall    | MulticlassRecall         | 0     \n",
      "3 | f1        | MulticlassF1Score        | 0     \n",
      "-------------------------------------------------------\n",
      "215 K     Trainable params\n",
      "0         Non-trainable params\n",
      "215 K     Total params\n",
      "0.863     Total estimated model params size (MB)\n"
     ]
    },
    {
     "data": {
      "application/vnd.jupyter.widget-view+json": {
       "model_id": "40f8b44f070d400792c840e40760b836",
       "version_major": 2,
       "version_minor": 0
      },
      "text/plain": [
       "Sanity Checking: |          | 0/? [00:00<?, ?it/s]"
      ]
     },
     "metadata": {},
     "output_type": "display_data"
    },
    {
     "data": {
      "application/vnd.jupyter.widget-view+json": {
       "model_id": "53144695fea340ed8abd659255fb3706",
       "version_major": 2,
       "version_minor": 0
      },
      "text/plain": [
       "Training: |          | 0/? [00:00<?, ?it/s]"
      ]
     },
     "metadata": {},
     "output_type": "display_data"
    },
    {
     "data": {
      "application/vnd.jupyter.widget-view+json": {
       "model_id": "17ec4198fc76477f93c088350a9b4327",
       "version_major": 2,
       "version_minor": 0
      },
      "text/plain": [
       "Validation: |          | 0/? [00:00<?, ?it/s]"
      ]
     },
     "metadata": {},
     "output_type": "display_data"
    },
    {
     "name": "stderr",
     "output_type": "stream",
     "text": [
      "Metric val/f1 improved. New best score: 0.551\n",
      "Epoch 0, global step 8355: 'val/f1' reached 0.55076 (best 0.55076), saving model to '/home/sayem/Desktop/deepHSI/notebooks/ckpt/best-checkpoint-00-0.55.ckpt' as top 1\n"
     ]
    },
    {
     "data": {
      "application/vnd.jupyter.widget-view+json": {
       "model_id": "e508a836665748c7858eef2322e54712",
       "version_major": 2,
       "version_minor": 0
      },
      "text/plain": [
       "Validation: |          | 0/? [00:00<?, ?it/s]"
      ]
     },
     "metadata": {},
     "output_type": "display_data"
    },
    {
     "name": "stderr",
     "output_type": "stream",
     "text": [
      "Metric val/f1 improved by 0.014 >= min_delta = 0.0. New best score: 0.565\n",
      "Epoch 1, global step 16710: 'val/f1' reached 0.56451 (best 0.56451), saving model to '/home/sayem/Desktop/deepHSI/notebooks/ckpt/best-checkpoint-01-0.56.ckpt' as top 1\n"
     ]
    }
   ],
   "source": [
    "trainer.fit(hsi_classifier, datamodule=pavia_c_datamodule)"
   ]
  },
  {
   "cell_type": "code",
   "execution_count": null,
   "metadata": {},
   "outputs": [],
   "source": [
    "# Fit the model using the train dataset from the data module\n",
    "dictionary = trainer.test(hsi_classifier, pavia_c_datamodule, verbose=True)\n",
    "# trainer.fit(hsi_module, datamodule=pavia_c_datamodule)tree\n",
    "# Use train_dataloader() instead of train_dataset"
   ]
  },
  {
   "cell_type": "code",
   "execution_count": null,
   "metadata": {},
   "outputs": [],
   "source": [
    "# After training or experiments are done, finish the WandB run\n",
    "wandb.finish()"
   ]
  }
 ],
 "metadata": {
  "kernelspec": {
   "display_name": "deepHSI",
   "language": "python",
   "name": "python3"
  },
  "language_info": {
   "codemirror_mode": {
    "name": "ipython",
    "version": 3
   },
   "file_extension": ".py",
   "mimetype": "text/x-python",
   "name": "python",
   "nbconvert_exporter": "python",
   "pygments_lexer": "ipython3",
   "version": "3.12.2"
  }
 },
 "nbformat": 4,
 "nbformat_minor": 2
}
