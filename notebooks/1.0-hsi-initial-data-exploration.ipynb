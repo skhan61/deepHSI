{
 "cells": [
  {
   "cell_type": "code",
   "execution_count": 1,
   "metadata": {},
   "outputs": [],
   "source": [
    "import sys\n",
    "\n",
    "sys.path.append(\n",
    "    \"/home/sayem/Desktop/deepHSI\"\n",
    ")  # Replace this with the actual path to your project root\n",
    "\n",
    "from pathlib import Path\n",
    "\n",
    "import numpy as np\n",
    "\n",
    "# Now you should be able to import your custom modules\n",
    "from src.dataset.components.hyperspectral_dataset import HyperspectralDataset\n",
    "from src.dataset.components.utils import *"
   ]
  },
  {
   "cell_type": "code",
   "execution_count": 2,
   "metadata": {},
   "outputs": [],
   "source": [
    "dataset_name = \"Salinas\"\n",
    "data_dir = Path(\"/home/sayem/Desktop/deepHSI/data\")\n",
    "target_folder = data_dir / dataset_name\n",
    "target_folder.mkdir(parents=True, exist_ok=True)\n",
    "\n",
    "# Ensure the dataset is downloaded only once for the session\n",
    "download_dataset(dataset_name, str(target_folder))\n",
    "\n",
    "# Load the dataset components\n",
    "img, gt, label_values, ignored_labels, rgb_bands, _ = load_dataset(\n",
    "    dataset_name, str(target_folder)\n",
    ")\n",
    "\n",
    "dataset = HyperspectralDataset(img, gt)"
   ]
  },
  {
   "cell_type": "code",
   "execution_count": 3,
   "metadata": {},
   "outputs": [
    {
     "name": "stdout",
     "output_type": "stream",
     "text": [
      "torch.Size([1, 204, 5, 5])\n",
      "torch.Size([])\n"
     ]
    }
   ],
   "source": [
    "igm, label = dataset[1]\n",
    "\n",
    "print(igm.shape)\n",
    "print(label.shape)"
   ]
  },
  {
   "cell_type": "code",
   "execution_count": null,
   "metadata": {},
   "outputs": [],
   "source": []
  }
 ],
 "metadata": {
  "kernelspec": {
   "display_name": "deepHSI",
   "language": "python",
   "name": "python3"
  },
  "language_info": {
   "codemirror_mode": {
    "name": "ipython",
    "version": 3
   },
   "file_extension": ".py",
   "mimetype": "text/x-python",
   "name": "python",
   "nbconvert_exporter": "python",
   "pygments_lexer": "ipython3",
   "version": "3.12.2"
  }
 },
 "nbformat": 4,
 "nbformat_minor": 2
}
